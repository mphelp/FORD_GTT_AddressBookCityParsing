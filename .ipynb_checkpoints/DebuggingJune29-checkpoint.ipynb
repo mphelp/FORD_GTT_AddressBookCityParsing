{
 "cells": [
  {
   "cell_type": "markdown",
   "metadata": {},
   "source": [
    "# Debugging Session"
   ]
  },
  {
   "cell_type": "code",
   "execution_count": null,
   "metadata": {},
   "outputs": [],
   "source": [
    "# %load cityParseGlobal.py\n",
    "### Author: Matthew Phelps, Updated: June 25 2018\n",
    "###         IT Application Development Intern\n",
    "###         iTek Center, Red Wolves skill team\n",
    "###         Ford Motor Company\n",
    "\n",
    "###### NOTES:\n",
    "# Poland is an acceptable city.\n",
    "# Need a list of exceptions.\n",
    "\n",
    "from lib import parse, AddrStats, Timer\n",
    "import pandas as pd\n",
    "import numpy as np\n",
    "import xlrd\n",
    "import time\n",
    "\n",
    "# Vars\n",
    "globalResultsFile = 'resultsGlobal.txt'\n",
    "incompleteAddrExcel = 'dependencies/20180620 GTT Dealers with Incomplete address.xlsx'\n",
    "incompleteSheetName = 'Address Data city is inappropri'\n",
    "approvedGTNAddrExcel = 'dependencies/GTNexus_CityList_20180208.xlsx'\n",
    "debugAll = False\n",
    "hasOffSet = False\n",
    "\n",
    "# Source, I/O Read Write\n",
    "myTimer = Timer.Timer()\n",
    "myTimer.start('Excel Loading')\n",
    "incompleteAddrTable = pd.read_excel(pd.ExcelFile(incompleteAddrExcel), incompleteSheetName)\n",
    "approvedGTNAddrTable = pd.read_excel(approvedGTNAddrExcel)\n",
    "AddrInfoGlobal = AddrStats.AddrStats(resultsFile=globalResultsFile,debugAll=debugAll,hasOffset=hasOffSet)\n",
    "myTimer.end()\n",
    "\n",
    "# List Setup\n",
    "myTimer.start('List Setup')\n",
    "incompleteAddrCityList = [parse.convertToStr(getattr(addr, 'City'))\n",
    "                          for addr in incompleteAddrTable[['City']].itertuples()]\n",
    "approvedGTNAddrCityList = [parse.convertToStr(getattr(addr, 'City'))\n",
    "                           for addr in approvedGTNAddrTable[['City']].itertuples()]\n",
    "approvedGTNAddrCityListSimplified = [parse.remPunctuation(c.lower()) for c in approvedGTNAddrCityList]\n",
    "myTimer.end()\n",
    "\n",
    "# Begin iteration\n",
    "myTimer.start('Iteration')\n",
    "for possibleCity in incompleteAddrCityList:\n",
    "    matchFound, correctCity = parse.cityStringParse(possibleCity, approvedGTNAddrCityList,\n",
    "                                                    approvedGTNAddrCityListSimplified)\n",
    "    if matchFound:\n",
    "        AddrInfoGlobal.writeCity(correctCity)\n",
    "        AddrInfoGlobal.debugPrint(possibleCity)\n",
    "    else:\n",
    "        AddrInfoGlobal.writeNoCity()\n",
    "        AddrInfoGlobal.debugPrint(possibleCity)\n",
    "myTimer.end()\n",
    "\n",
    "# Display results\n",
    "AddrInfoGlobal.dispCityResults()"
   ]
  },
  {
   "cell_type": "code",
   "execution_count": null,
   "metadata": {},
   "outputs": [],
   "source": []
  }
 ],
 "metadata": {
  "kernelspec": {
   "display_name": "Python 3",
   "language": "python",
   "name": "python3"
  },
  "language_info": {
   "codemirror_mode": {
    "name": "ipython",
    "version": 3
   },
   "file_extension": ".py",
   "mimetype": "text/x-python",
   "name": "python",
   "nbconvert_exporter": "python",
   "pygments_lexer": "ipython3",
   "version": "3.6.5"
  }
 },
 "nbformat": 4,
 "nbformat_minor": 2
}
